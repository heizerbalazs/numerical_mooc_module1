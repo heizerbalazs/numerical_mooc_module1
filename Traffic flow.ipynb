{
 "cells": [
  {
   "cell_type": "markdown",
   "metadata": {},
   "source": [
    "# Importing libraries"
   ]
  },
  {
   "cell_type": "code",
   "execution_count": 185,
   "metadata": {
    "collapsed": true
   },
   "outputs": [],
   "source": [
    "import numpy as np\n",
    "import matplotlib.pyplot as plt\n",
    "%matplotlib inline"
   ]
  },
  {
   "cell_type": "markdown",
   "metadata": {},
   "source": [
    "# Traffic flow model\n",
    "- $V$: speed of traffic $[km/h]$\n",
    "- $\\rho$: trafic density $[cars/km]$\n",
    "- $F$: flux/flow rate of the cars $[cars/h]$"
   ]
  },
  {
   "cell_type": "code",
   "execution_count": 186,
   "metadata": {
    "collapsed": true
   },
   "outputs": [],
   "source": [
    "nx = 51\n",
    "L = 11         # stretch of road [km]\n",
    "V_max = 136     # maximum traffic velocity [km/h]\n",
    "rho_max = 250  # car density [car/km]\n",
    "dt = 0.001     # hours\n",
    "dx = L/(nx-1)"
   ]
  },
  {
   "cell_type": "code",
   "execution_count": 187,
   "metadata": {
    "collapsed": false
   },
   "outputs": [],
   "source": [
    "x = np.linspace(0, L, nx)"
   ]
  },
  {
   "cell_type": "code",
   "execution_count": 188,
   "metadata": {
    "collapsed": true
   },
   "outputs": [],
   "source": [
    "def calc_V(rho, rho_max, V_max):\n",
    "    V = V_max*(1-rho/rho_max)\n",
    "    return V"
   ]
  },
  {
   "cell_type": "markdown",
   "metadata": {},
   "source": [
    "# Initial and boundary conditions"
   ]
  },
  {
   "cell_type": "code",
   "execution_count": 189,
   "metadata": {
    "collapsed": true
   },
   "outputs": [],
   "source": [
    "rho0 = np.ones(nx)*20\n",
    "rho0[10:20] = 50\n",
    "BC = 20"
   ]
  },
  {
   "cell_type": "code",
   "execution_count": 190,
   "metadata": {
    "collapsed": false
   },
   "outputs": [
    {
     "data": {
      "text/plain": [
       "[<matplotlib.lines.Line2D at 0x213b4eef7f0>]"
      ]
     },
     "execution_count": 190,
     "metadata": {},
     "output_type": "execute_result"
    },
    {
     "data": {
      "image/png": "[encoded data removed]",
      "text/plain": [
       "<matplotlib.figure.Figure at 0x213b4eef630>"
      ]
     },
     "metadata": {},
     "output_type": "display_data"
    }
   ],
   "source": [
    "fig, ax = plt.subplots(figsize=(8,6))\n",
    "ax.set_xlabel('x $[km]$', fontsize=16)\n",
    "ax.set_ylabel('density of cars $[cars/km]$', fontsize=16)\n",
    "ax.set_xlim(0, L)\n",
    "ax.set_ylim(0, rho0.max()*1.2)\n",
    "ax.plot(x, rho0, color='#003366', lw=3)"
   ]
  },
  {
   "cell_type": "code",
   "execution_count": 191,
   "metadata": {
    "collapsed": false
   },
   "outputs": [],
   "source": [
    "V = calc_V(rho0, rho_max, V_max)"
   ]
  },
  {
   "cell_type": "code",
   "execution_count": 192,
   "metadata": {
    "collapsed": false
   },
   "outputs": [
    {
     "data": {
      "text/plain": [
       "30.222222222222225"
      ]
     },
     "execution_count": 192,
     "metadata": {},
     "output_type": "execute_result"
    }
   ],
   "source": [
    "V.min()*1000/3600"
   ]
  },
  {
   "cell_type": "markdown",
   "metadata": {},
   "source": [
    "# Integrate the equation"
   ]
  },
  {
   "cell_type": "code",
   "execution_count": 193,
   "metadata": {
    "collapsed": true
   },
   "outputs": [],
   "source": [
    "rho = rho0"
   ]
  },
  {
   "cell_type": "code",
   "execution_count": 194,
   "metadata": {
    "collapsed": false
   },
   "outputs": [],
   "source": [
    "for n in range(51):\n",
    "    rhon = rho.copy()\n",
    "    Fn = rhon*calc_V(rhon, rho_max, V_max)\n",
    "    rho[1:] = rhon[1:] - dt/dx*(Fn[1:]-Fn[:-1])\n",
    "    rho[0] = BC"
   ]
  },
  {
   "cell_type": "code",
   "execution_count": 195,
   "metadata": {
    "collapsed": false
   },
   "outputs": [
    {
     "data": {
      "text/plain": [
       "[<matplotlib.lines.Line2D at 0x213b6c792e8>]"
      ]
     },
     "execution_count": 195,
     "metadata": {},
     "output_type": "execute_result"
    },
    {
     "data": {
      "image/png": "[encoded data removed]",
      "text/plain": [
       "<matplotlib.figure.Figure at 0x213b6c79278>"
      ]
     },
     "metadata": {},
     "output_type": "display_data"
    }
   ],
   "source": [
    "fig, ax = plt.subplots(figsize=(8,6))\n",
    "ax.set_xlabel('x $[km]$')\n",
    "ax.set_ylabel('density of cars $[cars/km]$')\n",
    "ax.set_xlim(0, L)\n",
    "ax.set_ylim(0, rho.max()*1.2)\n",
    "ax.plot(x, rho, color='#003366', lw=3)"
   ]
  },
  {
   "cell_type": "code",
   "execution_count": 196,
   "metadata": {
    "collapsed": false
   },
   "outputs": [
    {
     "data": {
      "text/plain": [
       "30.988747028020629"
      ]
     },
     "execution_count": 196,
     "metadata": {},
     "output_type": "execute_result"
    }
   ],
   "source": [
    "V = calc_V(rho, rho_max, V_max)\n",
    "V.min()*1000/3600"
   ]
  },
  {
   "cell_type": "code",
   "execution_count": 182,
   "metadata": {
    "collapsed": false
   },
   "outputs": [
    {
     "data": {
      "text/plain": [
       "[<matplotlib.lines.Line2D at 0x213b572cb38>]"
      ]
     },
     "execution_count": 182,
     "metadata": {},
     "output_type": "execute_result"
    },
    {
     "data": {
      "image/png": "[encoded data removed]",
      "text/plain": [
       "<matplotlib.figure.Figure at 0x213b572c860>"
      ]
     },
     "metadata": {},
     "output_type": "display_data"
    }
   ],
   "source": [
    "fig, ax = plt.subplots(figsize=(8,6))\n",
    "ax.set_xlabel('x $[km]$')\n",
    "ax.set_ylabel('density of cars $[cars/km]$')\n",
    "ax.set_xlim(0, L)\n",
    "ax.set_ylim(0, V.max()*1.2)\n",
    "ax.plot(x, V, color='#003366', lw=3)"
   ]
  },
  {
   "cell_type": "code",
   "execution_count": 183,
   "metadata": {
    "collapsed": false
   },
   "outputs": [
    {
     "data": {
      "text/plain": [
       "array([ 125.12      ,  125.12      ,  125.12      ,  125.12      ,\n",
       "        125.12      ,  125.12      ,  125.12      ,  125.12      ,\n",
       "        125.12      ,  125.12      ,  125.12      ,  125.12      ,\n",
       "        125.12      ,  125.12      ,  125.12      ,  125.12      ,\n",
       "        125.12      ,  125.12      ,  125.12      ,  125.12      ,\n",
       "        125.12      ,  125.12      ,  125.12      ,  125.12      ,\n",
       "        125.12      ,  125.12      ,  125.12      ,  125.12      ,\n",
       "        125.12      ,  125.12      ,  125.12      ,  125.12      ,\n",
       "        125.11999998,  125.11999994,  125.11999978,  125.11999924,\n",
       "        125.11999745,  125.11999189,  125.11997532,  125.11992816,\n",
       "        125.11979956,  125.11946325,  125.1186184 ,  125.11657715,\n",
       "        125.11182773,  125.10117511,  125.07812656,  125.03001883,\n",
       "        124.93326481,  124.74636896,  124.40195494])"
      ]
     },
     "execution_count": 183,
     "metadata": {},
     "output_type": "execute_result"
    }
   ],
   "source": [
    "V"
   ]
  },
  {
   "cell_type": "code",
   "execution_count": 184,
   "metadata": {
    "collapsed": false
   },
   "outputs": [
    {
     "name": "stdout",
     "output_type": "stream",
     "text": [
      "Once deleted, variables cannot be recovered. Proceed (y/[n])? y\n"
     ]
    }
   ],
   "source": [
    "%reset"
   ]
  },
  {
   "cell_type": "code",
   "execution_count": null,
   "metadata": {
    "collapsed": true
   },
   "outputs": [],
   "source": []
  }
 ],
 "metadata": {
  "kernelspec": {
   "display_name": "Python 3",
   "language": "python",
   "name": "python3"
  },
  "language_info": {
   "codemirror_mode": {
    "name": "ipython",
    "version": 3
   },
   "file_extension": ".py",
   "mimetype": "text/x-python",
   "name": "python",
   "nbconvert_exporter": "python",
   "pygments_lexer": "ipython3",
   "version": "3.6.0"
  }
 },
 "nbformat": 4,
 "nbformat_minor": 2
}
